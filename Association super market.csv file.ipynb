{
 "cells": [
  {
   "cell_type": "code",
   "execution_count": 4,
   "id": "bd65025f",
   "metadata": {},
   "outputs": [
    {
     "name": "stdout",
     "output_type": "stream",
     "text": [
      "Association Rules:\n",
      "        antecedents      consequents  support  confidence      lift\n",
      "0           (jelly)          (bread)      0.4    1.000000  1.000000\n",
      "1           (bread)          (jelly)      0.4    0.400000  1.000000\n",
      "2           (bread)         (butter)      0.6    0.600000  1.000000\n",
      "3          (butter)          (bread)      0.6    1.000000  1.000000\n",
      "4            (milk)          (bread)      0.6    1.000000  1.000000\n",
      "5           (bread)           (milk)      0.6    0.600000  1.000000\n",
      "6           (sugar)          (bread)      0.2    1.000000  1.000000\n",
      "7           (bread)          (sugar)      0.2    0.200000  1.000000\n",
      "8            (milk)          (sugar)      0.2    0.333333  1.666667\n",
      "9           (sugar)           (milk)      0.2    1.000000  1.666667\n",
      "10  (jelly, butter)          (bread)      0.2    1.000000  1.000000\n",
      "11          (bread)  (jelly, butter)      0.2    0.200000  1.000000\n",
      "12    (jelly, milk)          (bread)      0.2    1.000000  1.000000\n",
      "13          (bread)    (jelly, milk)      0.2    0.200000  1.000000\n",
      "14   (milk, butter)          (bread)      0.2    1.000000  1.000000\n",
      "15          (bread)   (milk, butter)      0.2    0.200000  1.000000\n",
      "16    (milk, sugar)          (bread)      0.2    1.000000  1.000000\n",
      "17    (milk, bread)          (sugar)      0.2    0.333333  1.666667\n",
      "18   (sugar, bread)           (milk)      0.2    1.000000  1.666667\n",
      "19           (milk)   (sugar, bread)      0.2    0.333333  1.666667\n",
      "20          (sugar)    (milk, bread)      0.2    1.000000  1.666667\n",
      "21          (bread)    (milk, sugar)      0.2    0.200000  1.000000\n"
     ]
    }
   ],
   "source": [
    "import pandas as pd\n",
    "from mlxtend.frequent_patterns import apriori\n",
    "from mlxtend.frequent_patterns import association_rules\n",
    "\n",
    "# Load the dataset\n",
    "data = pd.read_csv(r\"D:\\IT\\DMLAB\\super market.csv\")\n",
    "\n",
    "# Convert 'y' and 'n' to boolean values (True and False)\n",
    "data = data.applymap(lambda x: True if x == 'y' else False)\n",
    "\n",
    "# Perform one-hot encoding\n",
    "one_hot_encoded = pd.get_dummies(data)\n",
    "\n",
    "# Find frequent item sets with minimum support\n",
    "frequent_itemsets = apriori(one_hot_encoded, min_support=0.2, use_colnames=True)\n",
    "\n",
    "# Generate association rules with minimum confidence and compute lift\n",
    "rules = association_rules(frequent_itemsets, metric=\"lift\", min_threshold=1.0)\n",
    "\n",
    "# Display the association rules\n",
    "print(\"Association Rules:\")\n",
    "print(rules[['antecedents', 'consequents', 'support', 'confidence', 'lift']])\n",
    "\n",
    "# Save the rules to a CSV file if needed\n",
    "# rules.to_csv(\"association_rules.csv\", index=False)"
   ]
  },
  {
   "cell_type": "code",
   "execution_count": null,
   "id": "ecaf5960",
   "metadata": {},
   "outputs": [],
   "source": []
  }
 ],
 "metadata": {
  "kernelspec": {
   "display_name": "Python 3 (ipykernel)",
   "language": "python",
   "name": "python3"
  },
  "language_info": {
   "codemirror_mode": {
    "name": "ipython",
    "version": 3
   },
   "file_extension": ".py",
   "mimetype": "text/x-python",
   "name": "python",
   "nbconvert_exporter": "python",
   "pygments_lexer": "ipython3",
   "version": "3.10.9"
  }
 },
 "nbformat": 4,
 "nbformat_minor": 5
}
